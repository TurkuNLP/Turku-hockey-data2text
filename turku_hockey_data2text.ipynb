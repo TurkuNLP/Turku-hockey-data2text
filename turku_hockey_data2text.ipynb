{
  "nbformat": 4,
  "nbformat_minor": 0,
  "metadata": {
    "colab": {
      "name": "turku_hockey_data2text.ipynb",
      "provenance": [],
      "collapsed_sections": [],
      "authorship_tag": "ABX9TyPN0+7FqM/dzHs9/ZhajQag",
      "include_colab_link": true
    },
    "kernelspec": {
      "name": "python3",
      "display_name": "Python 3"
    },
    "language_info": {
      "name": "python"
    },
    "widgets": {
      "application/vnd.jupyter.widget-state+json": {
        "bb709c5a1c4648feb983a0f19adba982": {
          "model_module": "@jupyter-widgets/controls",
          "model_name": "HBoxModel",
          "model_module_version": "1.5.0",
          "state": {
            "_view_name": "HBoxView",
            "_dom_classes": [],
            "_model_name": "HBoxModel",
            "_view_module": "@jupyter-widgets/controls",
            "_model_module_version": "1.5.0",
            "_view_count": null,
            "_view_module_version": "1.5.0",
            "box_style": "",
            "layout": "IPY_MODEL_66fb61abd5194e43866075658ffff31a",
            "_model_module": "@jupyter-widgets/controls",
            "children": [
              "IPY_MODEL_1aa4540f9d5b4199a31cb45472ba8d90",
              "IPY_MODEL_aebf0db3d0574f87b3464f20d2562633",
              "IPY_MODEL_93f972e2a0d948ab8494e1eafa1e427f"
            ]
          }
        },
        "66fb61abd5194e43866075658ffff31a": {
          "model_module": "@jupyter-widgets/base",
          "model_name": "LayoutModel",
          "model_module_version": "1.2.0",
          "state": {
            "_view_name": "LayoutView",
            "grid_template_rows": null,
            "right": null,
            "justify_content": null,
            "_view_module": "@jupyter-widgets/base",
            "overflow": null,
            "_model_module_version": "1.2.0",
            "_view_count": null,
            "flex_flow": null,
            "width": null,
            "min_width": null,
            "border": null,
            "align_items": null,
            "bottom": null,
            "_model_module": "@jupyter-widgets/base",
            "top": null,
            "grid_column": null,
            "overflow_y": null,
            "overflow_x": null,
            "grid_auto_flow": null,
            "grid_area": null,
            "grid_template_columns": null,
            "flex": null,
            "_model_name": "LayoutModel",
            "justify_items": null,
            "grid_row": null,
            "max_height": null,
            "align_content": null,
            "visibility": null,
            "align_self": null,
            "height": null,
            "min_height": null,
            "padding": null,
            "grid_auto_rows": null,
            "grid_gap": null,
            "max_width": null,
            "order": null,
            "_view_module_version": "1.2.0",
            "grid_template_areas": null,
            "object_position": null,
            "object_fit": null,
            "grid_auto_columns": null,
            "margin": null,
            "display": null,
            "left": null
          }
        },
        "1aa4540f9d5b4199a31cb45472ba8d90": {
          "model_module": "@jupyter-widgets/controls",
          "model_name": "HTMLModel",
          "model_module_version": "1.5.0",
          "state": {
            "_view_name": "HTMLView",
            "style": "IPY_MODEL_eb5d562a6fb24829aa08a4b632880cd6",
            "_dom_classes": [],
            "description": "",
            "_model_name": "HTMLModel",
            "placeholder": "​",
            "_view_module": "@jupyter-widgets/controls",
            "_model_module_version": "1.5.0",
            "value": "100%",
            "_view_count": null,
            "_view_module_version": "1.5.0",
            "description_tooltip": null,
            "_model_module": "@jupyter-widgets/controls",
            "layout": "IPY_MODEL_4402747a2cc84b11bf5d4bca9b6c6085"
          }
        },
        "aebf0db3d0574f87b3464f20d2562633": {
          "model_module": "@jupyter-widgets/controls",
          "model_name": "FloatProgressModel",
          "model_module_version": "1.5.0",
          "state": {
            "_view_name": "ProgressView",
            "style": "IPY_MODEL_77101feba1be49e7b6b8f9311b7a4493",
            "_dom_classes": [],
            "description": "",
            "_model_name": "FloatProgressModel",
            "bar_style": "success",
            "max": 3,
            "_view_module": "@jupyter-widgets/controls",
            "_model_module_version": "1.5.0",
            "value": 3,
            "_view_count": null,
            "_view_module_version": "1.5.0",
            "orientation": "horizontal",
            "min": 0,
            "description_tooltip": null,
            "_model_module": "@jupyter-widgets/controls",
            "layout": "IPY_MODEL_7599996cc29c411d8df6bc090146dc0b"
          }
        },
        "93f972e2a0d948ab8494e1eafa1e427f": {
          "model_module": "@jupyter-widgets/controls",
          "model_name": "HTMLModel",
          "model_module_version": "1.5.0",
          "state": {
            "_view_name": "HTMLView",
            "style": "IPY_MODEL_6ec7a7ab41ce4ac884a2ba5a0c22ebac",
            "_dom_classes": [],
            "description": "",
            "_model_name": "HTMLModel",
            "placeholder": "​",
            "_view_module": "@jupyter-widgets/controls",
            "_model_module_version": "1.5.0",
            "value": " 3/3 [00:00&lt;00:00, 43.80it/s]",
            "_view_count": null,
            "_view_module_version": "1.5.0",
            "description_tooltip": null,
            "_model_module": "@jupyter-widgets/controls",
            "layout": "IPY_MODEL_ab22d5b8a24845efa6826695ec0b711d"
          }
        },
        "eb5d562a6fb24829aa08a4b632880cd6": {
          "model_module": "@jupyter-widgets/controls",
          "model_name": "DescriptionStyleModel",
          "model_module_version": "1.5.0",
          "state": {
            "_view_name": "StyleView",
            "_model_name": "DescriptionStyleModel",
            "description_width": "",
            "_view_module": "@jupyter-widgets/base",
            "_model_module_version": "1.5.0",
            "_view_count": null,
            "_view_module_version": "1.2.0",
            "_model_module": "@jupyter-widgets/controls"
          }
        },
        "4402747a2cc84b11bf5d4bca9b6c6085": {
          "model_module": "@jupyter-widgets/base",
          "model_name": "LayoutModel",
          "model_module_version": "1.2.0",
          "state": {
            "_view_name": "LayoutView",
            "grid_template_rows": null,
            "right": null,
            "justify_content": null,
            "_view_module": "@jupyter-widgets/base",
            "overflow": null,
            "_model_module_version": "1.2.0",
            "_view_count": null,
            "flex_flow": null,
            "width": null,
            "min_width": null,
            "border": null,
            "align_items": null,
            "bottom": null,
            "_model_module": "@jupyter-widgets/base",
            "top": null,
            "grid_column": null,
            "overflow_y": null,
            "overflow_x": null,
            "grid_auto_flow": null,
            "grid_area": null,
            "grid_template_columns": null,
            "flex": null,
            "_model_name": "LayoutModel",
            "justify_items": null,
            "grid_row": null,
            "max_height": null,
            "align_content": null,
            "visibility": null,
            "align_self": null,
            "height": null,
            "min_height": null,
            "padding": null,
            "grid_auto_rows": null,
            "grid_gap": null,
            "max_width": null,
            "order": null,
            "_view_module_version": "1.2.0",
            "grid_template_areas": null,
            "object_position": null,
            "object_fit": null,
            "grid_auto_columns": null,
            "margin": null,
            "display": null,
            "left": null
          }
        },
        "77101feba1be49e7b6b8f9311b7a4493": {
          "model_module": "@jupyter-widgets/controls",
          "model_name": "ProgressStyleModel",
          "model_module_version": "1.5.0",
          "state": {
            "_view_name": "StyleView",
            "_model_name": "ProgressStyleModel",
            "description_width": "",
            "_view_module": "@jupyter-widgets/base",
            "_model_module_version": "1.5.0",
            "_view_count": null,
            "_view_module_version": "1.2.0",
            "bar_color": null,
            "_model_module": "@jupyter-widgets/controls"
          }
        },
        "7599996cc29c411d8df6bc090146dc0b": {
          "model_module": "@jupyter-widgets/base",
          "model_name": "LayoutModel",
          "model_module_version": "1.2.0",
          "state": {
            "_view_name": "LayoutView",
            "grid_template_rows": null,
            "right": null,
            "justify_content": null,
            "_view_module": "@jupyter-widgets/base",
            "overflow": null,
            "_model_module_version": "1.2.0",
            "_view_count": null,
            "flex_flow": null,
            "width": null,
            "min_width": null,
            "border": null,
            "align_items": null,
            "bottom": null,
            "_model_module": "@jupyter-widgets/base",
            "top": null,
            "grid_column": null,
            "overflow_y": null,
            "overflow_x": null,
            "grid_auto_flow": null,
            "grid_area": null,
            "grid_template_columns": null,
            "flex": null,
            "_model_name": "LayoutModel",
            "justify_items": null,
            "grid_row": null,
            "max_height": null,
            "align_content": null,
            "visibility": null,
            "align_self": null,
            "height": null,
            "min_height": null,
            "padding": null,
            "grid_auto_rows": null,
            "grid_gap": null,
            "max_width": null,
            "order": null,
            "_view_module_version": "1.2.0",
            "grid_template_areas": null,
            "object_position": null,
            "object_fit": null,
            "grid_auto_columns": null,
            "margin": null,
            "display": null,
            "left": null
          }
        },
        "6ec7a7ab41ce4ac884a2ba5a0c22ebac": {
          "model_module": "@jupyter-widgets/controls",
          "model_name": "DescriptionStyleModel",
          "model_module_version": "1.5.0",
          "state": {
            "_view_name": "StyleView",
            "_model_name": "DescriptionStyleModel",
            "description_width": "",
            "_view_module": "@jupyter-widgets/base",
            "_model_module_version": "1.5.0",
            "_view_count": null,
            "_view_module_version": "1.2.0",
            "_model_module": "@jupyter-widgets/controls"
          }
        },
        "ab22d5b8a24845efa6826695ec0b711d": {
          "model_module": "@jupyter-widgets/base",
          "model_name": "LayoutModel",
          "model_module_version": "1.2.0",
          "state": {
            "_view_name": "LayoutView",
            "grid_template_rows": null,
            "right": null,
            "justify_content": null,
            "_view_module": "@jupyter-widgets/base",
            "overflow": null,
            "_model_module_version": "1.2.0",
            "_view_count": null,
            "flex_flow": null,
            "width": null,
            "min_width": null,
            "border": null,
            "align_items": null,
            "bottom": null,
            "_model_module": "@jupyter-widgets/base",
            "top": null,
            "grid_column": null,
            "overflow_y": null,
            "overflow_x": null,
            "grid_auto_flow": null,
            "grid_area": null,
            "grid_template_columns": null,
            "flex": null,
            "_model_name": "LayoutModel",
            "justify_items": null,
            "grid_row": null,
            "max_height": null,
            "align_content": null,
            "visibility": null,
            "align_self": null,
            "height": null,
            "min_height": null,
            "padding": null,
            "grid_auto_rows": null,
            "grid_gap": null,
            "max_width": null,
            "order": null,
            "_view_module_version": "1.2.0",
            "grid_template_areas": null,
            "object_position": null,
            "object_fit": null,
            "grid_auto_columns": null,
            "margin": null,
            "display": null,
            "left": null
          }
        }
      }
    }
  },
  "cells": [
    {
      "cell_type": "markdown",
      "metadata": {
        "id": "view-in-github",
        "colab_type": "text"
      },
      "source": [
        "<a href=\"https://colab.research.google.com/github/TurkuNLP/Turku-hockey-data2text/blob/main/turku_hockey_data2text.ipynb\" target=\"_parent\"><img src=\"https://colab.research.google.com/assets/colab-badge.svg\" alt=\"Open In Colab\"/></a>"
      ]
    },
    {
      "cell_type": "markdown",
      "metadata": {
        "id": "tN-GxMv5m22W"
      },
      "source": [
        "# Turku Hockey Data2Text\n",
        "\n",
        "The Turku Hockey Data2Text corpus is a **manually curated corpus for Finnish news generation in the area of ice hockey reporting**. It was developed for a benchmark for evaluating template-free, machine learning methods on Finnish ice hockey news generation.\n",
        "\n",
        "The dataset includes 3,456 ice hockey games, where the game statistics are aligned for a corresponding news article describing the game outcome. Each game thus includes a list of events, e.g. goal or penalties, extracted from the game statistics. During the manual annotation, **each event is manually aligned into a sentence-like passage reporting the event in the news article**, and in case a suitable passage was not found, the annotation is left empty. Furthermore, the extracted **passages were manually modified not to include additional information not derivable from the game statistics, or not considered as world knowledge**. The manual curation of passages is designed to prevent model hallucination, i.e. model learning to generate facts not derivable from the input data.\n",
        "\n",
        "Thus, the dataset can be used to train models for generating natural language descriptions for ice hockey game events.\n",
        "\n",
        "Example (in simplified format):\n",
        "\n",
        "```\n",
        "TPS–HPK 0–1 (0–1, 0–0, 0–0) ||| HPK kukisti TPS:n vieraissa 1–0 (1–0, 0–0, 0–0).\n",
        "\n",
        "HPK Mikko Mäenpää 0–1 power play 14.57 ||| HPK hyödynsi ylivoimaa mennen jo ensimmäisessä erässä Mikko Mäenpään maalilla 1–0 -johtoon.\n",
        "```\n"
      ]
    },
    {
      "cell_type": "code",
      "metadata": {
        "colab": {
          "base_uri": "https://localhost:8080/"
        },
        "id": "GDqnUfNDwpJY",
        "outputId": "63226273-5ffd-4b39-b361-eff4ba2fd4dd"
      },
      "source": [
        "!pip install datasets"
      ],
      "execution_count": 1,
      "outputs": [
        {
          "output_type": "stream",
          "name": "stdout",
          "text": [
            "Collecting datasets\n",
            "  Downloading datasets-1.16.1-py3-none-any.whl (298 kB)\n",
            "\u001b[K     |████████████████████████████████| 298 kB 7.1 MB/s \n",
            "\u001b[?25hRequirement already satisfied: pyarrow!=4.0.0,>=3.0.0 in /usr/local/lib/python3.7/dist-packages (from datasets) (3.0.0)\n",
            "Requirement already satisfied: tqdm>=4.62.1 in /usr/local/lib/python3.7/dist-packages (from datasets) (4.62.3)\n",
            "Requirement already satisfied: numpy>=1.17 in /usr/local/lib/python3.7/dist-packages (from datasets) (1.19.5)\n",
            "Requirement already satisfied: pandas in /usr/local/lib/python3.7/dist-packages (from datasets) (1.1.5)\n",
            "Requirement already satisfied: importlib-metadata in /usr/local/lib/python3.7/dist-packages (from datasets) (4.8.2)\n",
            "Collecting fsspec[http]>=2021.05.0\n",
            "  Downloading fsspec-2021.11.1-py3-none-any.whl (132 kB)\n",
            "\u001b[K     |████████████████████████████████| 132 kB 65.3 MB/s \n",
            "\u001b[?25hRequirement already satisfied: dill in /usr/local/lib/python3.7/dist-packages (from datasets) (0.3.4)\n",
            "Requirement already satisfied: requests>=2.19.0 in /usr/local/lib/python3.7/dist-packages (from datasets) (2.23.0)\n",
            "Requirement already satisfied: packaging in /usr/local/lib/python3.7/dist-packages (from datasets) (21.3)\n",
            "Requirement already satisfied: multiprocess in /usr/local/lib/python3.7/dist-packages (from datasets) (0.70.12.2)\n",
            "Collecting huggingface-hub<1.0.0,>=0.1.0\n",
            "  Downloading huggingface_hub-0.1.2-py3-none-any.whl (59 kB)\n",
            "\u001b[K     |████████████████████████████████| 59 kB 7.1 MB/s \n",
            "\u001b[?25hCollecting aiohttp\n",
            "  Downloading aiohttp-3.8.1-cp37-cp37m-manylinux_2_5_x86_64.manylinux1_x86_64.manylinux_2_12_x86_64.manylinux2010_x86_64.whl (1.1 MB)\n",
            "\u001b[K     |████████████████████████████████| 1.1 MB 18.7 MB/s \n",
            "\u001b[?25hCollecting xxhash\n",
            "  Downloading xxhash-2.0.2-cp37-cp37m-manylinux2010_x86_64.whl (243 kB)\n",
            "\u001b[K     |████████████████████████████████| 243 kB 51.3 MB/s \n",
            "\u001b[?25hRequirement already satisfied: typing-extensions>=3.7.4.3 in /usr/local/lib/python3.7/dist-packages (from huggingface-hub<1.0.0,>=0.1.0->datasets) (3.10.0.2)\n",
            "Requirement already satisfied: pyyaml in /usr/local/lib/python3.7/dist-packages (from huggingface-hub<1.0.0,>=0.1.0->datasets) (3.13)\n",
            "Requirement already satisfied: filelock in /usr/local/lib/python3.7/dist-packages (from huggingface-hub<1.0.0,>=0.1.0->datasets) (3.4.0)\n",
            "Requirement already satisfied: pyparsing!=3.0.5,>=2.0.2 in /usr/local/lib/python3.7/dist-packages (from packaging->datasets) (3.0.6)\n",
            "Requirement already satisfied: urllib3!=1.25.0,!=1.25.1,<1.26,>=1.21.1 in /usr/local/lib/python3.7/dist-packages (from requests>=2.19.0->datasets) (1.24.3)\n",
            "Requirement already satisfied: certifi>=2017.4.17 in /usr/local/lib/python3.7/dist-packages (from requests>=2.19.0->datasets) (2021.10.8)\n",
            "Requirement already satisfied: chardet<4,>=3.0.2 in /usr/local/lib/python3.7/dist-packages (from requests>=2.19.0->datasets) (3.0.4)\n",
            "Requirement already satisfied: idna<3,>=2.5 in /usr/local/lib/python3.7/dist-packages (from requests>=2.19.0->datasets) (2.10)\n",
            "Collecting frozenlist>=1.1.1\n",
            "  Downloading frozenlist-1.2.0-cp37-cp37m-manylinux_2_5_x86_64.manylinux1_x86_64.manylinux_2_12_x86_64.manylinux2010_x86_64.whl (192 kB)\n",
            "\u001b[K     |████████████████████████████████| 192 kB 27.5 MB/s \n",
            "\u001b[?25hCollecting yarl<2.0,>=1.0\n",
            "  Downloading yarl-1.7.2-cp37-cp37m-manylinux_2_5_x86_64.manylinux1_x86_64.manylinux_2_12_x86_64.manylinux2010_x86_64.whl (271 kB)\n",
            "\u001b[K     |████████████████████████████████| 271 kB 68.6 MB/s \n",
            "\u001b[?25hCollecting aiosignal>=1.1.2\n",
            "  Downloading aiosignal-1.2.0-py3-none-any.whl (8.2 kB)\n",
            "Collecting asynctest==0.13.0\n",
            "  Downloading asynctest-0.13.0-py3-none-any.whl (26 kB)\n",
            "Requirement already satisfied: charset-normalizer<3.0,>=2.0 in /usr/local/lib/python3.7/dist-packages (from aiohttp->datasets) (2.0.7)\n",
            "Collecting multidict<7.0,>=4.5\n",
            "  Downloading multidict-5.2.0-cp37-cp37m-manylinux_2_5_x86_64.manylinux1_x86_64.manylinux_2_12_x86_64.manylinux2010_x86_64.whl (160 kB)\n",
            "\u001b[K     |████████████████████████████████| 160 kB 55.4 MB/s \n",
            "\u001b[?25hCollecting async-timeout<5.0,>=4.0.0a3\n",
            "  Downloading async_timeout-4.0.1-py3-none-any.whl (5.7 kB)\n",
            "Requirement already satisfied: attrs>=17.3.0 in /usr/local/lib/python3.7/dist-packages (from aiohttp->datasets) (21.2.0)\n",
            "Requirement already satisfied: zipp>=0.5 in /usr/local/lib/python3.7/dist-packages (from importlib-metadata->datasets) (3.6.0)\n",
            "Requirement already satisfied: pytz>=2017.2 in /usr/local/lib/python3.7/dist-packages (from pandas->datasets) (2018.9)\n",
            "Requirement already satisfied: python-dateutil>=2.7.3 in /usr/local/lib/python3.7/dist-packages (from pandas->datasets) (2.8.2)\n",
            "Requirement already satisfied: six>=1.5 in /usr/local/lib/python3.7/dist-packages (from python-dateutil>=2.7.3->pandas->datasets) (1.15.0)\n",
            "Installing collected packages: multidict, frozenlist, yarl, asynctest, async-timeout, aiosignal, fsspec, aiohttp, xxhash, huggingface-hub, datasets\n",
            "Successfully installed aiohttp-3.8.1 aiosignal-1.2.0 async-timeout-4.0.1 asynctest-0.13.0 datasets-1.16.1 frozenlist-1.2.0 fsspec-2021.11.1 huggingface-hub-0.1.2 multidict-5.2.0 xxhash-2.0.2 yarl-1.7.2\n"
          ]
        }
      ]
    },
    {
      "cell_type": "markdown",
      "metadata": {
        "id": "6IIBM58kU1Ve"
      },
      "source": [
        "# Loading the dataset\n",
        "\n"
      ]
    },
    {
      "cell_type": "code",
      "metadata": {
        "colab": {
          "base_uri": "https://localhost:8080/",
          "height": 364,
          "referenced_widgets": [
            "bb709c5a1c4648feb983a0f19adba982",
            "66fb61abd5194e43866075658ffff31a",
            "1aa4540f9d5b4199a31cb45472ba8d90",
            "aebf0db3d0574f87b3464f20d2562633",
            "93f972e2a0d948ab8494e1eafa1e427f",
            "eb5d562a6fb24829aa08a4b632880cd6",
            "4402747a2cc84b11bf5d4bca9b6c6085",
            "77101feba1be49e7b6b8f9311b7a4493",
            "7599996cc29c411d8df6bc090146dc0b",
            "6ec7a7ab41ce4ac884a2ba5a0c22ebac",
            "ab22d5b8a24845efa6826695ec0b711d"
          ]
        },
        "id": "x33XfGJRw0Yf",
        "outputId": "329265b6-9151-42c7-c816-4aa11ec375eb"
      },
      "source": [
        "from datasets import load_dataset, Dataset\n",
        "\n",
        "# load data from Huggingface datasets\n",
        "dataset = load_dataset(\"TurkuNLP/turku_hockey_data2text\")\n",
        "\n",
        "# print one example\n",
        "print(dataset[\"train\"][15])\n",
        "print(dataset)"
      ],
      "execution_count": 4,
      "outputs": [
        {
          "output_type": "stream",
          "name": "stderr",
          "text": [
            "No config specified, defaulting to: turku_hockey_data2_text/main\n",
            "Reusing dataset turku_hockey_data2_text (/root/.cache/huggingface/datasets/TurkuNLP___turku_hockey_data2_text/main/1.1.0/cd4776a2e584679b46f472bb2939cfc0d7c1575156c07595abc5f48314810fb6)\n"
          ]
        },
        {
          "output_type": "display_data",
          "data": {
            "application/vnd.jupyter.widget-view+json": {
              "model_id": "bb709c5a1c4648feb983a0f19adba982",
              "version_minor": 0,
              "version_major": 2
            },
            "text/plain": [
              "  0%|          | 0/3 [00:00<?, ?it/s]"
            ]
          },
          "metadata": {}
        },
        {
          "output_type": "stream",
          "name": "stdout",
          "text": [
            "{'id': 'stt-topics:381124-TPS-HIFK', 'news_article': 'HIFK:n Robert Leinon avausmaali runsaan minuutin pelin jälkeen pohjusti helsinkiläisten niukan 2–1-voiton Turun Palloseurasta lauantaina Turkuhallissa. Näin TPS kärsi kolmannen perättäisen tappion jääkiekkoliigassa.\\nHIFK:lla oli hyvä mahdollisuus kaunistaa maalilukujaan toisen erän puolivälissä, kun joukkue pääsi pelaamaan lähes kaksi minuuttia kahden miehen ylivoimalla. Oskari Siikin kaksiminuuttisen lisäksi TPS:n Henrik Tallinder sai pelirangaistuksen korkeasta mailasta, mutta maalinteko ei kuitenkaan helsinkiläisiltä ylivoimalla onnistunut.\\n– Hieno suoritus joukkueelta raskaan peliviikon jälkeen, ja pystyimme onneksi pitämään johtoaseman loppuun asti, iloitsi HIFK:n päävalmentaja Antti Törmänen.\\nTPS:n päävalmentaja Ari-Pekka Selin harmitteli takaa-ajon epäonnistumista kolmannessa erässä.\\n– Emme pelanneet huonosti, mutta ratkaisuja ei vaan saatu aikaan, Selin harmitteli.\\n', 'events': {'event_id': ['E1', 'E2', 'E3', 'E4', 'E5', 'E6', 'E7', 'E8', 'E9', 'E10', 'E11', 'E12', 'E13', 'E14'], 'event_type': ['game result', 'goal', 'penalty', 'penalty', 'penalty', 'penalty', 'goal', 'penalty', 'penalty', 'penalty', 'goal', 'penalty', 'saves', 'saves'], 'text': ['HIFK vei niukan 2–1 -voiton Turun Palloseurasta.', 'Helsinkiläisten Robert Leino teki avausmaalin runsaan minuutin pelin jälkeen.', '', '', '', '', '', 'Toisen erän puolivälissä TPS:n Oskari Siiki sai kaksiminuuttisen ja lisäksi Henrik Tallinder sai pelirangaistuksen.', 'E8', '', '', '', '', ''], 'home_team': ['TPS', '', '', '', '', '', '', '', '', '', '', '', '', ''], 'guest_team': ['HIFK', '', '', '', '', '', '', '', '', '', '', '', '', ''], 'score': ['1–2', '0–1', '', '', '', '', '0–2', '', '', '', '1–2', '', '', ''], 'periods': [['0–1', '1–1', '0–0'], [], [], [], [], [], [], [], [], [], [], [], [], []], 'features': [[], [], [], [], [], [], ['power play'], [], [], [], ['power play'], [], [], []], 'player': ['', 'Robert Leino', 'Tomi Kallio', 'Daniel Grillfors', 'Corey Elkins', 'Martin Berger', 'Jasse Ikonen', 'Oskari Siiki', 'Henrik Tallinder', 'Juuso Salmi', 'Patrik Virta', 'Juhamatti Aaltonen', 'Oskari Setänen', 'Niklas Bäckström'], 'assist': [[], ['Juuso Puustinen', 'Teemu Eronen'], [], [], [], [], ['Juhamatti Aaltonen'], [], [], [], ['Erik Thorell', 'Jani Forsström'], [], [], []], 'team': ['', 'guest', 'home', 'guest', 'guest', 'home', 'guest', 'home', 'home', 'guest', 'home', 'guest', 'home', 'guest'], 'team_name': ['', 'HIFK', 'TPS', 'HIFK', 'HIFK', 'TPS', 'HIFK', 'TPS', 'TPS', 'HIFK', 'TPS', 'HIFK', 'TPS', 'HIFK'], 'time': ['', '1.17', '8.1', '16.25', '18.5', '23.58', '24.53', '31.13', '31.24', '39.01', '39.52', '52.08', '', ''], 'penalty_minutes': ['', '', '2', '2', '2', '2', '', '2', '5+20', '2', '', '2', '', ''], 'saves': ['', '', '', '', '', '', '', '', '', '', '', '', '22', '26'], 'multi_reference': [False, False, False, False, False, False, False, True, True, False, False, False, False, False]}}\n",
            "DatasetDict({\n",
            "    train: Dataset({\n",
            "        features: ['id', 'news_article', 'events'],\n",
            "        num_rows: 2763\n",
            "    })\n",
            "    validation: Dataset({\n",
            "        features: ['id', 'news_article', 'events'],\n",
            "        num_rows: 345\n",
            "    })\n",
            "    test: Dataset({\n",
            "        features: ['id', 'news_article', 'events'],\n",
            "        num_rows: 346\n",
            "    })\n",
            "})\n"
          ]
        }
      ]
    },
    {
      "cell_type": "markdown",
      "metadata": {
        "id": "gUyBpMcQVZEz"
      },
      "source": [
        "# Prepare the data for generation\n",
        "\n",
        "* Example how to prepare the dataset for simple **event-level sequence-to-sequence generation**\n",
        "  * input: one event (string)\n",
        "  * output: description of the event\n",
        "* Limitations (of this simplified representation):\n",
        "  * game level features are not included\n",
        "  * multi-reference events are discarded"
      ]
    },
    {
      "cell_type": "code",
      "metadata": {
        "colab": {
          "base_uri": "https://localhost:8080/"
        },
        "id": "n2ttVo48w6Cm",
        "outputId": "3c88a2b3-10f9-434b-fe8c-3e4e4b0d8fab"
      },
      "source": [
        "# prepare simplified data for data2text generation\n",
        "# one event in, description out\n",
        "\n",
        "import re\n",
        "\n",
        "# relevant keys in input representation for different event types (text and event_id skipped as not being relevant for the input)\n",
        "relevant_keys = {\"game result\": [\"event_type\", \"home_team\", \"guest_team\", \"score\", \"periods\", \"features\"],\\\n",
        "                 \"goal\": [\"event_type\", \"score\", \"features\", \"player\", \"assist\", \"team\", \"team_name\", \"time\"],\\\n",
        "                 \"penalty\": [\"event_type\", \"player\", \"team\", \"team_name\", \"time\", \"penalty_minutes\"],\\\n",
        "                 \"saves\": [\"event_type\", \"player\", \"team\", \"team_name\", \"saves\"]}\n",
        "\n",
        "def event2string(i, events):\n",
        "  \"\"\"Featurize i:th event into string input.\n",
        "     Example:\n",
        "        input: \"event_id: E17 [SEP] event_type: saves [SEP] player: Jani Hurme [SEP] team: home [SEP] team_name: TPS [SEP] saves: 25\"\n",
        "        output: \"TPS:n maalissa Jani Hurme ehti 25 kiekon tielle.\"\n",
        "  \"\"\"\n",
        "  if events[\"text\"][i] == \"\": # skip, event is not annotated\n",
        "      return None, None\n",
        "  if events[\"multi_reference\"][i] == True: # skip multireference events in simple representation\n",
        "      return None, None\n",
        "  event_type = events[\"event_type\"][i] # use only relevant features for this event type\n",
        "  event_input = \" [SEP] \".join(f\"{key}: {events[key][i] if isinstance(events[key][i], str) else ' , '.join(f for f in events[key][i])}\" for key in relevant_keys[event_type])\n",
        "  return event_input, events[\"text\"][i]\n",
        "\n",
        "\n",
        "simplified_data = {}\n",
        "\n",
        "for data_split in dataset.keys():\n",
        "  simplified_data[data_split] = []\n",
        "  # iterate over games\n",
        "  for game in dataset[data_split]:\n",
        "    events = game[\"events\"]\n",
        "    # iterate over events in a game\n",
        "    for i, event_id in enumerate(events[\"event_id\"]):\n",
        "      event_input, event_output = event2string(i, events)\n",
        "      if not event_input: # skip empty annotations and multi-reference events\n",
        "        continue \n",
        "      simplified_data[data_split].append({\"input\": event_input, \"output\": event_output})\n",
        "\n",
        "\n",
        "for data_split in simplified_data.keys():\n",
        "  print(f\"simplified dataset {data_split}:\", len(simplified_data[data_split]))\n",
        "  print(f\"First example in {data_split}:\", simplified_data[data_split][0])\n"
      ],
      "execution_count": 3,
      "outputs": [
        {
          "output_type": "stream",
          "name": "stdout",
          "text": [
            "simplified dataset train: 6159\n",
            "First example in train: {'input': 'event_type: game result [SEP] home_team: TPS [SEP] guest_team: HPK [SEP] score: 0–2 [SEP] periods: 0–2 , 0–0 , 0–0 [SEP] features: ', 'output': 'HPK kukisti TPS:n vieraissa 2–0 (2–0, 0–0, 0–0).'}\n",
            "simplified dataset validation: 755\n",
            "First example in validation: {'input': 'event_type: game result [SEP] home_team: HPK [SEP] guest_team: Ilves [SEP] score: 3–1 [SEP] periods: 0–0 , 2–0 , 1–1 [SEP] features: ', 'output': 'Kotikaukalossaan pelannut HPK vei 3–1 (0–0, 2–0, 1–1) -voiton Ilveksestä.'}\n",
            "simplified dataset test: 706\n",
            "First example in test: {'input': 'event_type: game result [SEP] home_team: Ässät [SEP] guest_team: Lukko [SEP] score: 3–2 [SEP] periods: 1–0 , 1–1 , 0–1 , 1–0 [SEP] features: ', 'output': 'Ässät otti pisteet Lukolta lukemin 3–2 (1–0, 1–1, 0–1, 1–0).'}\n"
          ]
        }
      ]
    }
  ]
}